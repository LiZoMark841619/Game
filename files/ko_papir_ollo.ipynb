{
 "cells": [
  {
   "cell_type": "code",
   "execution_count": 6,
   "metadata": {},
   "outputs": [],
   "source": [
    "from games import Game\n",
    "from players import Player\n",
    "from methods import get_valid_number, get_valid_str"
   ]
  },
  {
   "cell_type": "code",
   "execution_count": 7,
   "metadata": {},
   "outputs": [],
   "source": [
    "game = Game()"
   ]
  },
  {
   "cell_type": "code",
   "execution_count": 8,
   "metadata": {},
   "outputs": [],
   "source": [
    "num_of_players = game.set_num_of_players(2)"
   ]
  },
  {
   "cell_type": "code",
   "execution_count": 9,
   "metadata": {},
   "outputs": [],
   "source": [
    "players = game.get_num_of_players()\n",
    "for player in players:\n",
    "    player.set_name(input('Enter your name! '))\n"
   ]
  },
  {
   "cell_type": "code",
   "execution_count": 10,
   "metadata": {},
   "outputs": [
    {
     "name": "stdout",
     "output_type": "stream",
     "text": [
      "Even! Try again! \n",
      "Szabolcs you won! \n",
      "Balazs you won! \n",
      "Even! Try again! \n",
      "Szabolcs you won! \n"
     ]
    }
   ],
   "source": [
    "start = 0\n",
    "num_of_games = get_valid_number('Enter the number of games you would like to play (1-5)! ', 1, 5)\n",
    "\n",
    "while start < num_of_games:\n",
    "    options = ['rock', 'paper', 'scissors']\n",
    "    answers = []\n",
    "    for player in players:\n",
    "        question = get_valid_str(f'{player.get_name()} chose from {options}', *options)\n",
    "        answers.append(question)\n",
    "    start += 1\n",
    "    \n",
    "    print(f'{players[0].get_name()} you won! ' \n",
    "    if (answers[0] == 'rock' and answers[1] not in ['rock', 'paper']) or \n",
    "    (answers[0] == 'paper' and answers[1] not in ['paper', 'rock'])or\n",
    "    answers[0] == 'scissors' and answers[1] not in ['scissors', 'rock']\n",
    "    else 'Even! Try again! ' if answers[0] == answers[1] \n",
    "    else f'{players[1].get_name()} you won! ')\n"
   ]
  }
 ],
 "metadata": {
  "kernelspec": {
   "display_name": "base",
   "language": "python",
   "name": "python3"
  },
  "language_info": {
   "codemirror_mode": {
    "name": "ipython",
    "version": 3
   },
   "file_extension": ".py",
   "mimetype": "text/x-python",
   "name": "python",
   "nbconvert_exporter": "python",
   "pygments_lexer": "ipython3",
   "version": "3.11.4"
  }
 },
 "nbformat": 4,
 "nbformat_minor": 2
}
