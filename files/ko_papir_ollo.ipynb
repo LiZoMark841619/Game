{
 "cells": [
  {
   "cell_type": "code",
   "execution_count": 5,
   "metadata": {},
   "outputs": [],
   "source": [
    "from games import Game\n",
    "from players import Player\n",
    "from methods import get_valid_number, get_valid_str"
   ]
  },
  {
   "cell_type": "code",
   "execution_count": 6,
   "metadata": {},
   "outputs": [],
   "source": [
    "game = Game()"
   ]
  },
  {
   "cell_type": "code",
   "execution_count": 7,
   "metadata": {},
   "outputs": [],
   "source": [
    "num_of_players = game.set_num_of_players(2)"
   ]
  },
  {
   "cell_type": "code",
   "execution_count": 9,
   "metadata": {},
   "outputs": [],
   "source": [
    "players = game.get_num_of_players()\n",
    "for player in players:\n",
    "    player.set_name(input('Enter your name'))\n"
   ]
  },
  {
   "cell_type": "code",
   "execution_count": 10,
   "metadata": {},
   "outputs": [
    {
     "name": "stdout",
     "output_type": "stream",
     "text": [
      "Balazs\n",
      "Lilla\n",
      "Balazs\n",
      "Lilla\n"
     ]
    }
   ],
   "source": [
    "trials = 0\n",
    "while trials < 2:\n",
    "    trials += 1\n",
    "    options = ['rock', 'paper', 'scissors']\n",
    "    question = get_valid_str(f'Chose from {options}', *options)\n",
    "    results = []\n",
    "    for player in players:\n",
    "        print(f'{player.get_name()}')    "
   ]
  },
  {
   "cell_type": "code",
   "execution_count": null,
   "metadata": {},
   "outputs": [],
   "source": []
  }
 ],
 "metadata": {
  "kernelspec": {
   "display_name": "base",
   "language": "python",
   "name": "python3"
  },
  "language_info": {
   "codemirror_mode": {
    "name": "ipython",
    "version": 3
   },
   "file_extension": ".py",
   "mimetype": "text/x-python",
   "name": "python",
   "nbconvert_exporter": "python",
   "pygments_lexer": "ipython3",
   "version": "3.11.4"
  }
 },
 "nbformat": 4,
 "nbformat_minor": 2
}
