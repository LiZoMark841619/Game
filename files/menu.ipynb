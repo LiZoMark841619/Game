{
 "cells": [
  {
   "cell_type": "code",
   "execution_count": 22,
   "metadata": {},
   "outputs": [],
   "source": [
    "from games import Game"
   ]
  },
  {
   "cell_type": "code",
   "execution_count": 14,
   "metadata": {},
   "outputs": [],
   "source": [
    "class Menu:\n",
    "    \n",
    "    def __init__(self, options: dict, choice: int) -> None:\n",
    "        self.options = options\n",
    "        if choice in options:\n",
    "            self.choice = choice\n",
    "        else:\n",
    "            raise ValueError('There is no such option in the Menu! ')             \n",
    "            \n",
    "    def __repr__(self) -> str:\n",
    "        return f'Menu({self.choice})'\n",
    "    \n",
    "    def get_valid_number(self, prompt: str, value_min: int, value_max: int) -> int:\n",
    "        while True:\n",
    "            try: \n",
    "                value = int(input(prompt))\n",
    "                if value_min <= value <= value_max:\n",
    "                    return value\n",
    "                else:\n",
    "                    print('The number is out of range.\\n')\n",
    "            except ValueError: \n",
    "                print('Enter a valid number!\\n')\n",
    "\n",
    "    def get_valid_str(self, prompt: str, *args) -> str:\n",
    "        while True:\n",
    "            value = input(prompt).lower()\n",
    "            if value in args:\n",
    "                return value\n",
    "            else:\n",
    "                print('Invalid value. Try again! ')\n",
    "\n",
    "    def ask_to_play(self) -> bool:\n",
    "        question = self.get_valid_str('Would you like to play? Enter yes or no? ', 'yes', 'no')\n",
    "        if question == 'yes':\n",
    "            return True\n",
    "        else:\n",
    "            print(\"Understood, good bye!\")\n",
    "        return False\n",
    "    \n",
    "    def display(self):\n",
    "        \n",
    "        if self.choice == 0:\n",
    "            self.ask_to_play()\n",
    "        \n",
    "        elif self.choice == 1:\n",
    "            game = self.get_valid_str('Chose from Guesses, Lotto and Rock! ', 'guesses', 'lotto', 'rock')\n",
    "            print(f'Welcome to my {game.title()} game! ')\n",
    "            \n",
    "        elif self.choice == 2:\n",
    "            \n",
    "            \n",
    "            \n",
    "        elif self.choice == 3:\n",
    "            \n",
    "        elif self.choice == 4:\n",
    "            \n",
    "            \n",
    "    \n",
    "        "
   ]
  },
  {
   "cell_type": "code",
   "execution_count": 15,
   "metadata": {},
   "outputs": [],
   "source": [
    "options = {\n",
    "    0: 'Ask to play',\n",
    "    1: 'Chose the game',\n",
    "    2: 'Number of players',\n",
    "    3: 'Names of players',\n",
    "    4: 'Good bye'\n",
    "    }"
   ]
  },
  {
   "cell_type": "code",
   "execution_count": 20,
   "metadata": {},
   "outputs": [],
   "source": [
    "test_zero = Menu(options, 1)"
   ]
  },
  {
   "cell_type": "code",
   "execution_count": 21,
   "metadata": {},
   "outputs": [
    {
     "name": "stdout",
     "output_type": "stream",
     "text": [
      "Invalid value. Try again! \n",
      "Welcome to my Guesses game! \n"
     ]
    }
   ],
   "source": [
    "test_zero.display()"
   ]
  },
  {
   "cell_type": "code",
   "execution_count": null,
   "metadata": {},
   "outputs": [],
   "source": []
  }
 ],
 "metadata": {
  "kernelspec": {
   "display_name": "base",
   "language": "python",
   "name": "python3"
  },
  "language_info": {
   "codemirror_mode": {
    "name": "ipython",
    "version": 3
   },
   "file_extension": ".py",
   "mimetype": "text/x-python",
   "name": "python",
   "nbconvert_exporter": "python",
   "pygments_lexer": "ipython3",
   "version": "3.11.4"
  }
 },
 "nbformat": 4,
 "nbformat_minor": 2
}
