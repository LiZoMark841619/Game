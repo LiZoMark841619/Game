{
 "cells": [
  {
   "cell_type": "code",
   "execution_count": null,
   "metadata": {},
   "outputs": [],
   "source": [
    "from games import Game\n",
    "from guesses import Guesses\n",
    "from lotto import Lotto\n",
    "from rock import Rock\n",
    "from valids import Valids"
   ]
  },
  {
   "cell_type": "code",
   "execution_count": null,
   "metadata": {},
   "outputs": [],
   "source": [
    "class Menu(Valids):\n",
    "    \n",
    "    def __init__(self, choice: int,\n",
    "    options: dict={\n",
    "                     0:'Ask to play',\n",
    "                     1:'Chose the game',\n",
    "                     2:'Number of players',\n",
    "                     3:'Names of players',\n",
    "                     4: 'Good bye'}) -> None:\n",
    "        \n",
    "        self.options = options\n",
    "        if choice in options:\n",
    "            self.choice = choice\n",
    "            self.menu = options[choice]\n",
    "        else:\n",
    "            raise ValueError('There is no such option in the Menu! ')             \n",
    "            \n",
    "    def __repr__(self) -> str:\n",
    "        return f'Menu({self.options})'\n",
    "\n",
    "\n",
    "    def ask_to_play(self) -> bool:\n",
    "        question = self.get_valid_str('Would you like to play? Enter yes or no? ', 'yes', 'no')\n",
    "        if question == 'yes': return True\n",
    "        else: print(\"Understood, good bye!\"); return False\n",
    "    \n",
    "    def chose_game(self) -> bool:\n",
    "        game = self.get_valid_str(f'Chose from {[cls.__name__ for cls in Game.__subclasses__()]}! ', 'guesses', 'lotto', 'rock')\n",
    "        print(f'Welcome to my {game.title()} game! ')\n",
    "        \n",
    "    def set_players(self) -> int:\n",
    "        self.get_valid_number('How many players are going to play? Set from 1 to 4! ', 1, 4)\n",
    "    \n",
    "    def want_to_quit(self) -> bool:\n",
    "        question = self.get_valid_str('Would you like to quit? Enter yes or no? ', 'yes', 'no')\n",
    "        if question == 'yes': print('Understood, good bye!'); return True\n",
    "        else: print(\"OK, let's get going!\"); return False\n",
    "\n",
    "    def display(self):\n",
    "        \n",
    "        if self.choice == 0:\n",
    "            self.ask_to_play()\n",
    "        \n",
    "        elif self.choice == 1:\n",
    "            self.chose_game()\n",
    "            \n",
    "        elif self.choice == 2:\n",
    "            self.set_players()\n",
    "        \n",
    "        elif self.choice == 4:\n",
    "            self.want_to_quit()"
   ]
  },
  {
   "cell_type": "code",
   "execution_count": null,
   "metadata": {},
   "outputs": [],
   "source": [
    "options = {\n",
    "    0: 'Ask to play',\n",
    "    1: 'Chose the game',\n",
    "    2: 'Number of players',\n",
    "    3: 'Names of players',\n",
    "    4: 'Good bye'\n",
    "    }"
   ]
  },
  {
   "cell_type": "code",
   "execution_count": null,
   "metadata": {},
   "outputs": [],
   "source": [
    "test_zero, test_one, test_two, test_three, test_four = Menu(0), Menu(1), Menu(2), Menu(3), Menu(4)"
   ]
  },
  {
   "cell_type": "code",
   "execution_count": null,
   "metadata": {},
   "outputs": [],
   "source": [
    "test_zero"
   ]
  },
  {
   "cell_type": "code",
   "execution_count": null,
   "metadata": {},
   "outputs": [],
   "source": [
    "test_one.choice"
   ]
  },
  {
   "cell_type": "code",
   "execution_count": null,
   "metadata": {},
   "outputs": [],
   "source": [
    "test_two.menu"
   ]
  },
  {
   "cell_type": "code",
   "execution_count": null,
   "metadata": {},
   "outputs": [],
   "source": [
    "test_two.display()"
   ]
  },
  {
   "cell_type": "code",
   "execution_count": null,
   "metadata": {},
   "outputs": [],
   "source": [
    "test_four.display()"
   ]
  },
  {
   "cell_type": "code",
   "execution_count": null,
   "metadata": {},
   "outputs": [],
   "source": []
  }
 ],
 "metadata": {
  "kernelspec": {
   "display_name": "base",
   "language": "python",
   "name": "python3"
  },
  "language_info": {
   "codemirror_mode": {
    "name": "ipython",
    "version": 3
   },
   "file_extension": ".py",
   "mimetype": "text/x-python",
   "name": "python",
   "nbconvert_exporter": "python",
   "pygments_lexer": "ipython3",
   "version": "3.11.4"
  }
 },
 "nbformat": 4,
 "nbformat_minor": 2
}
