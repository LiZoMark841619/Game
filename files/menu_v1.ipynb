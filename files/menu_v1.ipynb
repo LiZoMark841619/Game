{
 "cells": [
  {
   "cell_type": "code",
   "execution_count": 7,
   "metadata": {},
   "outputs": [],
   "source": [
    "def dispatch(operator, x, y):\n",
    "    return {'add': lambda: x+y,\n",
    "            'sub': lambda: x-y,\n",
    "            'mul': lambda: x*y,\n",
    "            'div': lambda: x/y}.get(operator, lambda: None)()\n"
   ]
  },
  {
   "cell_type": "code",
   "execution_count": 8,
   "metadata": {},
   "outputs": [
    {
     "data": {
      "text/plain": [
       "0.5"
      ]
     },
     "execution_count": 8,
     "metadata": {},
     "output_type": "execute_result"
    }
   ],
   "source": [
    "dispatch('div', 10, 20)"
   ]
  },
  {
   "cell_type": "code",
   "execution_count": 1,
   "metadata": {},
   "outputs": [],
   "source": [
    "from games import Game\n",
    "from valids import Valids"
   ]
  },
  {
   "cell_type": "code",
   "execution_count": 2,
   "metadata": {},
   "outputs": [],
   "source": [
    "from games import Game\n",
    "from valids import Valids\n",
    "\n",
    "class Menu(Valids):\n",
    "    \n",
    "    def __init__(self, options: dict={0:'Ask to play', 1:'Chose the game', 2:'Number of players', 3:'Names of players', 4: 'Want to quit'}) -> None:               \n",
    "        self.options = options\n",
    "\n",
    "    def __repr__(self) -> str:\n",
    "        return f'Menu({self.options})'\n",
    "    \n",
    "    def set_choice(self, num: int) -> None:\n",
    "        self.num = num\n",
    "    \n",
    "    def get_choice(self) -> str:\n",
    "        return self.num\n",
    "        \n",
    "    def chose_game(self) -> bool:\n",
    "        game = self.get_valid_str(f'Chose from {[cls.__name__ for cls in Game.__subclasses__()]}! ', 'guesses', 'lotto', 'rock')\n",
    "        print(f'Welcome to my {game.title()} game! ')\n",
    "        return game\n",
    "        \n",
    "    def set_players(self) -> int:\n",
    "        self.get_valid_number('How many players are going to play? Set from 1 to 4! ', 1, 4)\n",
    "    \n",
    "    def want_to_quit(self) -> bool:\n",
    "        question = self.get_valid_str('Would you like to quit? Enter yes or no? ', 'yes', 'no')\n",
    "        if question == 'yes': print('Understood, good bye!'); return True\n",
    "        else: print(\"OK, let's get going!\"); return False\n",
    "\n",
    "    def display(self):\n",
    "        request = self.get_choice()\n",
    "        \n",
    "        if request == 0: self.ask_to_play()\n",
    "        elif request == 1: self.chose_game()\n",
    "        elif request == 2: self.set_players()\n",
    "        elif request == 4: self.want_to_quit()"
   ]
  },
  {
   "cell_type": "code",
   "execution_count": 3,
   "metadata": {},
   "outputs": [],
   "source": [
    "test_zero, test_one, test_two, test_three, test_four = Menu(), Menu(), Menu(), Menu(), Menu()"
   ]
  },
  {
   "cell_type": "code",
   "execution_count": 4,
   "metadata": {},
   "outputs": [
    {
     "data": {
      "text/plain": [
       "Menu({0: 'Ask to play', 1: 'Chose the game', 2: 'Number of players', 3: 'Names of players', 4: 'Want to quit'})"
      ]
     },
     "execution_count": 4,
     "metadata": {},
     "output_type": "execute_result"
    }
   ],
   "source": [
    "test_zero"
   ]
  },
  {
   "cell_type": "code",
   "execution_count": 5,
   "metadata": {},
   "outputs": [],
   "source": [
    "test_one.set_choice(1)"
   ]
  },
  {
   "cell_type": "code",
   "execution_count": 6,
   "metadata": {},
   "outputs": [
    {
     "data": {
      "text/plain": [
       "1"
      ]
     },
     "execution_count": 6,
     "metadata": {},
     "output_type": "execute_result"
    }
   ],
   "source": [
    "test_one.get_choice()"
   ]
  },
  {
   "cell_type": "code",
   "execution_count": 7,
   "metadata": {},
   "outputs": [
    {
     "data": {
      "text/plain": [
       "True"
      ]
     },
     "execution_count": 7,
     "metadata": {},
     "output_type": "execute_result"
    }
   ],
   "source": [
    "test_one.ask_to_play()"
   ]
  },
  {
   "cell_type": "code",
   "execution_count": 8,
   "metadata": {},
   "outputs": [
    {
     "name": "stdout",
     "output_type": "stream",
     "text": [
      "Welcome to my Guesses game! \n"
     ]
    },
    {
     "data": {
      "text/plain": [
       "'guesses'"
      ]
     },
     "execution_count": 8,
     "metadata": {},
     "output_type": "execute_result"
    }
   ],
   "source": [
    "test_one.chose_game()"
   ]
  },
  {
   "cell_type": "code",
   "execution_count": 9,
   "metadata": {},
   "outputs": [],
   "source": [
    "test_one.set_players()"
   ]
  },
  {
   "cell_type": "code",
   "execution_count": 10,
   "metadata": {},
   "outputs": [
    {
     "name": "stdout",
     "output_type": "stream",
     "text": [
      "Understood, good bye!\n"
     ]
    },
    {
     "data": {
      "text/plain": [
       "True"
      ]
     },
     "execution_count": 10,
     "metadata": {},
     "output_type": "execute_result"
    }
   ],
   "source": [
    "test_one.want_to_quit()"
   ]
  },
  {
   "cell_type": "code",
   "execution_count": null,
   "metadata": {},
   "outputs": [],
   "source": []
  }
 ],
 "metadata": {
  "kernelspec": {
   "display_name": "base",
   "language": "python",
   "name": "python3"
  },
  "language_info": {
   "codemirror_mode": {
    "name": "ipython",
    "version": 3
   },
   "file_extension": ".py",
   "mimetype": "text/x-python",
   "name": "python",
   "nbconvert_exporter": "python",
   "pygments_lexer": "ipython3",
   "version": "3.11.4"
  }
 },
 "nbformat": 4,
 "nbformat_minor": 2
}
